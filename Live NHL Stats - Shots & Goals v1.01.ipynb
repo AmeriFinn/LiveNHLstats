{
 "cells": [
  {
   "cell_type": "markdown",
   "metadata": {},
   "source": [
    "# The goal of this program is to create a live tracker of a hockey game.\n",
    "## &emsp; Stats I would like to have live figures on are:\n",
    "## &emsp;&emsp; Goals: \n",
    "### &emsp;&emsp;&emsp; [1] Graph of goals per team vs time-elapsed, w/ goal differential\n",
    "### &emsp;&emsp;&emsp; [2] Table of goals per team per period, PPG's, SHG's\n",
    "\n",
    "## &emsp; &emsp; Shots:\n",
    "### &emsp;&emsp;&emsp; [1] Graph of shots per team vs time-elapsed, w/ shot differential\n",
    "### &emsp;&emsp;&emsp; [2] Top 5 shooters for each team by: shots, missed shots, shot attempts, shooting%, +/-\n",
    "\n",
    "##  &emsp;&emsp; Special Teams\n",
    "### &emsp;&emsp;&emsp; [1] PIM per team, PP's per team, PPG's per team, PK's per team\n",
    "### &emsp;&emsp;&emsp; [2] Table of penalties: Team, period, player, penalty, time\n"
   ]
  },
  {
   "cell_type": "markdown",
   "metadata": {},
   "source": [
    "## Import necessary modules"
   ]
  },
  {
   "cell_type": "code",
   "execution_count": 1,
   "metadata": {},
   "outputs": [
    {
     "name": "stdout",
     "output_type": "stream",
     "text": [
      "Hello world\n"
     ]
    }
   ],
   "source": [
    "from nhlstats import *\n",
    "from nhlstats.formatters import csv\n",
    "import pandas as pd, numpy as np\n",
    "from datetime import *\n",
    "from nhl import *\n",
    "import ipywidgets as widgets\n",
    "import matplotlib as mpl\n",
    "from matplotlib import pyplot as plt\n",
    "from matplotlib import style, dates\n",
    "import matplotlib.gridspec as gridspec\n",
    "from datetime import time\n",
    "import time\n",
    "%matplotlib inline "
   ]
  },
  {
   "cell_type": "code",
   "execution_count": 3,
   "metadata": {},
   "outputs": [],
   "source": [
    "today = date.today()"
   ]
  },
  {
   "cell_type": "code",
   "execution_count": 4,
   "metadata": {},
   "outputs": [],
   "source": [
    "yesterday = today + timedelta(days=-1)"
   ]
  },
  {
   "cell_type": "markdown",
   "metadata": {},
   "source": [
    "## Determine which game we want to look at"
   ]
  },
  {
   "cell_type": "code",
   "execution_count": 11,
   "metadata": {
    "scrolled": false
   },
   "outputs": [
    {
     "data": {
      "text/html": [
       "<div>\n",
       "<style scoped>\n",
       "    .dataframe tbody tr th:only-of-type {\n",
       "        vertical-align: middle;\n",
       "    }\n",
       "\n",
       "    .dataframe tbody tr th {\n",
       "        vertical-align: top;\n",
       "    }\n",
       "\n",
       "    .dataframe thead th {\n",
       "        text-align: right;\n",
       "    }\n",
       "</style>\n",
       "<table border=\"1\" class=\"dataframe\">\n",
       "  <thead>\n",
       "    <tr style=\"text-align: right;\">\n",
       "      <th></th>\n",
       "      <th>away_score</th>\n",
       "      <th>away_team</th>\n",
       "      <th>date</th>\n",
       "      <th>game_id</th>\n",
       "      <th>game_state</th>\n",
       "      <th>home_score</th>\n",
       "      <th>home_team</th>\n",
       "    </tr>\n",
       "  </thead>\n",
       "  <tbody>\n",
       "    <tr>\n",
       "      <th>0</th>\n",
       "      <td>2</td>\n",
       "      <td>Washington Capitals</td>\n",
       "      <td>2020-02-22</td>\n",
       "      <td>2019020948</td>\n",
       "      <td>Final</td>\n",
       "      <td>3</td>\n",
       "      <td>New Jersey Devils</td>\n",
       "    </tr>\n",
       "    <tr>\n",
       "      <th>1</th>\n",
       "      <td>2</td>\n",
       "      <td>Winnipeg Jets</td>\n",
       "      <td>2020-02-22</td>\n",
       "      <td>2019020949</td>\n",
       "      <td>Final</td>\n",
       "      <td>4</td>\n",
       "      <td>Philadelphia Flyers</td>\n",
       "    </tr>\n",
       "    <tr>\n",
       "      <th>2</th>\n",
       "      <td>5</td>\n",
       "      <td>Buffalo Sabres</td>\n",
       "      <td>2020-02-22</td>\n",
       "      <td>2019020950</td>\n",
       "      <td>Final</td>\n",
       "      <td>2</td>\n",
       "      <td>Pittsburgh Penguins</td>\n",
       "    </tr>\n",
       "    <tr>\n",
       "      <th>3</th>\n",
       "      <td>6</td>\n",
       "      <td>Carolina Hurricanes</td>\n",
       "      <td>2020-02-23</td>\n",
       "      <td>2019020951</td>\n",
       "      <td>Final</td>\n",
       "      <td>3</td>\n",
       "      <td>Toronto Maple Leafs</td>\n",
       "    </tr>\n",
       "    <tr>\n",
       "      <th>4</th>\n",
       "      <td>3</td>\n",
       "      <td>Montréal Canadiens</td>\n",
       "      <td>2020-02-23</td>\n",
       "      <td>2019020952</td>\n",
       "      <td>Final</td>\n",
       "      <td>0</td>\n",
       "      <td>Ottawa Senators</td>\n",
       "    </tr>\n",
       "    <tr>\n",
       "      <th>5</th>\n",
       "      <td>2</td>\n",
       "      <td>San Jose Sharks</td>\n",
       "      <td>2020-02-23</td>\n",
       "      <td>2019020953</td>\n",
       "      <td>Final</td>\n",
       "      <td>3</td>\n",
       "      <td>New York Rangers</td>\n",
       "    </tr>\n",
       "    <tr>\n",
       "      <th>6</th>\n",
       "      <td>3</td>\n",
       "      <td>Tampa Bay Lightning</td>\n",
       "      <td>2020-02-23</td>\n",
       "      <td>2019020955</td>\n",
       "      <td>Final</td>\n",
       "      <td>7</td>\n",
       "      <td>Arizona Coyotes</td>\n",
       "    </tr>\n",
       "    <tr>\n",
       "      <th>7</th>\n",
       "      <td>3</td>\n",
       "      <td>Columbus Blue Jackets</td>\n",
       "      <td>2020-02-23</td>\n",
       "      <td>2019020954</td>\n",
       "      <td>Final</td>\n",
       "      <td>4</td>\n",
       "      <td>Nashville Predators</td>\n",
       "    </tr>\n",
       "    <tr>\n",
       "      <th>8</th>\n",
       "      <td>3</td>\n",
       "      <td>Boston Bruins</td>\n",
       "      <td>2020-02-23</td>\n",
       "      <td>2019020956</td>\n",
       "      <td>Final</td>\n",
       "      <td>9</td>\n",
       "      <td>Vancouver Canucks</td>\n",
       "    </tr>\n",
       "    <tr>\n",
       "      <th>9</th>\n",
       "      <td>3</td>\n",
       "      <td>Florida Panthers</td>\n",
       "      <td>2020-02-23</td>\n",
       "      <td>2019020957</td>\n",
       "      <td>Final</td>\n",
       "      <td>5</td>\n",
       "      <td>Vegas Golden Knights</td>\n",
       "    </tr>\n",
       "    <tr>\n",
       "      <th>10</th>\n",
       "      <td>2</td>\n",
       "      <td>Colorado Avalanche</td>\n",
       "      <td>2020-02-23</td>\n",
       "      <td>2019020958</td>\n",
       "      <td>Final</td>\n",
       "      <td>1</td>\n",
       "      <td>Los Angeles Kings</td>\n",
       "    </tr>\n",
       "    <tr>\n",
       "      <th>11</th>\n",
       "      <td>2</td>\n",
       "      <td>Pittsburgh Penguins</td>\n",
       "      <td>2020-02-23</td>\n",
       "      <td>2019020959</td>\n",
       "      <td>In Progress</td>\n",
       "      <td>1</td>\n",
       "      <td>Washington Capitals</td>\n",
       "    </tr>\n",
       "    <tr>\n",
       "      <th>12</th>\n",
       "      <td>0</td>\n",
       "      <td>Chicago Blackhawks</td>\n",
       "      <td>2020-02-23</td>\n",
       "      <td>2019020961</td>\n",
       "      <td>Scheduled</td>\n",
       "      <td>0</td>\n",
       "      <td>Dallas Stars</td>\n",
       "    </tr>\n",
       "    <tr>\n",
       "      <th>13</th>\n",
       "      <td>0</td>\n",
       "      <td>Winnipeg Jets</td>\n",
       "      <td>2020-02-23</td>\n",
       "      <td>2019020960</td>\n",
       "      <td>Scheduled</td>\n",
       "      <td>0</td>\n",
       "      <td>Buffalo Sabres</td>\n",
       "    </tr>\n",
       "    <tr>\n",
       "      <th>14</th>\n",
       "      <td>0</td>\n",
       "      <td>San Jose Sharks</td>\n",
       "      <td>2020-02-23</td>\n",
       "      <td>2019020962</td>\n",
       "      <td>Scheduled</td>\n",
       "      <td>0</td>\n",
       "      <td>New York Islanders</td>\n",
       "    </tr>\n",
       "    <tr>\n",
       "      <th>15</th>\n",
       "      <td>0</td>\n",
       "      <td>Calgary Flames</td>\n",
       "      <td>2020-02-24</td>\n",
       "      <td>2019020963</td>\n",
       "      <td>Scheduled</td>\n",
       "      <td>0</td>\n",
       "      <td>Detroit Red Wings</td>\n",
       "    </tr>\n",
       "    <tr>\n",
       "      <th>16</th>\n",
       "      <td>0</td>\n",
       "      <td>St. Louis Blues</td>\n",
       "      <td>2020-02-24</td>\n",
       "      <td>2019020964</td>\n",
       "      <td>Scheduled</td>\n",
       "      <td>0</td>\n",
       "      <td>Minnesota Wild</td>\n",
       "    </tr>\n",
       "    <tr>\n",
       "      <th>17</th>\n",
       "      <td>0</td>\n",
       "      <td>Vegas Golden Knights</td>\n",
       "      <td>2020-02-24</td>\n",
       "      <td>2019020965</td>\n",
       "      <td>Scheduled</td>\n",
       "      <td>0</td>\n",
       "      <td>Anaheim Ducks</td>\n",
       "    </tr>\n",
       "    <tr>\n",
       "      <th>18</th>\n",
       "      <td>0</td>\n",
       "      <td>Edmonton Oilers</td>\n",
       "      <td>2020-02-24</td>\n",
       "      <td>2019020966</td>\n",
       "      <td>Scheduled</td>\n",
       "      <td>0</td>\n",
       "      <td>Los Angeles Kings</td>\n",
       "    </tr>\n",
       "  </tbody>\n",
       "</table>\n",
       "</div>"
      ],
      "text/plain": [
       "    away_score              away_team        date     game_id   game_state  \\\n",
       "0            2    Washington Capitals  2020-02-22  2019020948        Final   \n",
       "1            2          Winnipeg Jets  2020-02-22  2019020949        Final   \n",
       "2            5         Buffalo Sabres  2020-02-22  2019020950        Final   \n",
       "3            6    Carolina Hurricanes  2020-02-23  2019020951        Final   \n",
       "4            3     Montréal Canadiens  2020-02-23  2019020952        Final   \n",
       "5            2        San Jose Sharks  2020-02-23  2019020953        Final   \n",
       "6            3    Tampa Bay Lightning  2020-02-23  2019020955        Final   \n",
       "7            3  Columbus Blue Jackets  2020-02-23  2019020954        Final   \n",
       "8            3          Boston Bruins  2020-02-23  2019020956        Final   \n",
       "9            3       Florida Panthers  2020-02-23  2019020957        Final   \n",
       "10           2     Colorado Avalanche  2020-02-23  2019020958        Final   \n",
       "11           2    Pittsburgh Penguins  2020-02-23  2019020959  In Progress   \n",
       "12           0     Chicago Blackhawks  2020-02-23  2019020961    Scheduled   \n",
       "13           0          Winnipeg Jets  2020-02-23  2019020960    Scheduled   \n",
       "14           0        San Jose Sharks  2020-02-23  2019020962    Scheduled   \n",
       "15           0         Calgary Flames  2020-02-24  2019020963    Scheduled   \n",
       "16           0        St. Louis Blues  2020-02-24  2019020964    Scheduled   \n",
       "17           0   Vegas Golden Knights  2020-02-24  2019020965    Scheduled   \n",
       "18           0        Edmonton Oilers  2020-02-24  2019020966    Scheduled   \n",
       "\n",
       "    home_score             home_team  \n",
       "0            3     New Jersey Devils  \n",
       "1            4   Philadelphia Flyers  \n",
       "2            2   Pittsburgh Penguins  \n",
       "3            3   Toronto Maple Leafs  \n",
       "4            0       Ottawa Senators  \n",
       "5            3      New York Rangers  \n",
       "6            7       Arizona Coyotes  \n",
       "7            4   Nashville Predators  \n",
       "8            9     Vancouver Canucks  \n",
       "9            5  Vegas Golden Knights  \n",
       "10           1     Los Angeles Kings  \n",
       "11           1   Washington Capitals  \n",
       "12           0          Dallas Stars  \n",
       "13           0        Buffalo Sabres  \n",
       "14           0    New York Islanders  \n",
       "15           0     Detroit Red Wings  \n",
       "16           0        Minnesota Wild  \n",
       "17           0         Anaheim Ducks  \n",
       "18           0     Los Angeles Kings  "
      ]
     },
     "metadata": {},
     "output_type": "display_data"
    },
    {
     "name": "stdout",
     "output_type": "stream",
     "text": [
      "Which Team Are You Watching Today?\n"
     ]
    },
    {
     "data": {
      "application/vnd.jupyter.widget-view+json": {
       "model_id": "a27f0d7a55794fa79283709db681f6f2",
       "version_major": 2,
       "version_minor": 0
      },
      "text/plain": [
       "Dropdown(description='Team Name: ', options=('Anaheim Ducks', 'Arizona Coyotes', 'Boston Bruins', 'Buffalo Sab…"
      ]
     },
     "metadata": {},
     "output_type": "display_data"
    }
   ],
   "source": [
    "# Download data to pandas DF\n",
    "games = pd.DataFrame(list_games(yesterday))\n",
    "games = games.drop(columns=['season'])\n",
    "\n",
    "#Create lists for all teams playing, and all game_id's\n",
    "teams = []\n",
    "game_ids = []\n",
    "[teams.append(i) for i in games.away_team]\n",
    "[teams.append(i) for i in games.home_team]\n",
    "[game_ids.append(i) for i in games.game_id]\n",
    "\n",
    "teams.sort()\n",
    "def lst_unique(x):\n",
    "    return list(dict.fromkeys(x))\n",
    "teams = lst_unique(teams)\n",
    "\n",
    "team_select = widgets.Dropdown(\n",
    "    options=teams,\n",
    "    value=teams[0],\n",
    "    description='Team Name: ',\n",
    "    disabled=False\n",
    ")\n",
    "display(games)\n",
    "\n",
    "print(\"Which Team Are You Watching Today?\")\n",
    "display(team_select)"
   ]
  },
  {
   "cell_type": "markdown",
   "metadata": {},
   "source": [
    "## Identify `game_id` based on drop down list value. Download `plays, shifts, shots` data into DF's"
   ]
  },
  {
   "cell_type": "code",
   "execution_count": null,
   "metadata": {},
   "outputs": [],
   "source": [
    "game_id = 2019020958"
   ]
  },
  {
   "cell_type": "code",
   "execution_count": 12,
   "metadata": {},
   "outputs": [],
   "source": [
    "team = team_select.value\n",
    "game_id = games[(games.away_team == team) | (games.home_team == team)]['game_id'].min()\n",
    "\n",
    "#Columns to keep in plays and shots DF's\n",
    "keys = ['datetime','event_description','event_secondary_type','event_type','period','period_time','team_for']\n",
    "\n",
    "plays = pd.DataFrame(list_plays(game_id))\n",
    "plays = plays[keys]\n",
    "\n",
    "shifts = pd.DataFrame(list_shifts(game_id))\n",
    "\n",
    "shots = pd.DataFrame(list_shots(game_id))\n",
    "shots = shots[keys]\n",
    "\n",
    "# Identify away and home teams\n",
    "#Away = games[games.game_id == game_id].away_team.max()\n",
    "#Home = games[games.game_id == game_id].home_team.max()\n",
    "Teams = shots.team_for.unique()\n",
    "Away = Teams[0]\n",
    "Home = Teams[1]"
   ]
  },
  {
   "cell_type": "code",
   "execution_count": 13,
   "metadata": {},
   "outputs": [
    {
     "data": {
      "text/plain": [
       "'COL'"
      ]
     },
     "execution_count": 13,
     "metadata": {},
     "output_type": "execute_result"
    }
   ],
   "source": [
    "Home"
   ]
  },
  {
   "cell_type": "markdown",
   "metadata": {},
   "source": [
    "### Add column to `shots, plays` DF's for total game time elapsed"
   ]
  },
  {
   "cell_type": "code",
   "execution_count": 14,
   "metadata": {
    "scrolled": true
   },
   "outputs": [],
   "source": [
    "# Add column to shots Df for total time played\n",
    "shots['Time'] = pd.to_datetime(shots.period_time, format=\"%M:%S\")\n",
    "plays['Time'] = pd.to_datetime(plays.period_time, format=\"%M:%S\")\n",
    "\n",
    "plays_1 = plays[plays.period == 1].reset_index()\n",
    "\n",
    "plays_2 = plays[plays.period == 2].reset_index()\n",
    "plays_2.Time += timedelta(minutes=20)\n",
    "\n",
    "plays_3 = plays[plays.period == 3].reset_index()\n",
    "plays_3.Time += timedelta(minutes=40)\n",
    "\n",
    "#Parse out OT and Shootouts\n",
    "plays_4 = plays[plays.period == 4].reset_index()\n",
    "plays_4.Time += timedelta(minutes=60)\n",
    "\n",
    "plays_5 = plays[plays.period == 5].reset_index()\n",
    "plays_5.Time += timedelta(minutes=65)\n",
    "\n",
    "plays = pd.concat([plays_1,plays_2,plays_3,plays_4,plays_5],axis=0)\n",
    "plays.Time = [d.time() for d in plays.Time]\n",
    "\n",
    "allP = plays['Time']\n",
    "allP = pd.DataFrame(allP)\n",
    "allP.set_index('Time',inplace=True)\n",
    "allP.drop_duplicates(inplace=True)\n",
    "\n",
    "plays.set_index('Time',inplace=True)"
   ]
  },
  {
   "cell_type": "markdown",
   "metadata": {},
   "source": [
    "#### Create seperate DF's for Home and Away teams"
   ]
  },
  {
   "cell_type": "code",
   "execution_count": 15,
   "metadata": {},
   "outputs": [],
   "source": [
    "away_plays = plays[plays.team_for == Away]\n",
    "home_plays = plays[plays.team_for == Home]"
   ]
  },
  {
   "cell_type": "markdown",
   "metadata": {},
   "source": [
    "## Create plots of goals per team vs time-elapsed & differential. Create table with goals per team per period, w/ PPGF, SHGF, ENG."
   ]
  },
  {
   "cell_type": "code",
   "execution_count": 16,
   "metadata": {},
   "outputs": [],
   "source": [
    "away_goals = away_plays[away_plays['event_type'] == 'GOAL'].reset_index()\n",
    "home_goals = home_plays[home_plays['event_type'] == 'GOAL'].reset_index()"
   ]
  },
  {
   "cell_type": "code",
   "execution_count": 17,
   "metadata": {},
   "outputs": [],
   "source": [
    "goals = 0\n",
    "goalsAway = Away + \" Total Goals\"\n",
    "for i in range(0,away_goals.shape[0]):\n",
    "    goals +=1\n",
    "    away_goals.loc[i, goalsAway] = int(goals)  "
   ]
  },
  {
   "cell_type": "code",
   "execution_count": null,
   "metadata": {},
   "outputs": [],
   "source": [
    "goals = 0\n",
    "goalsHome = Home + \" Total Goals\"\n",
    "for i in range(0,home_goals.shape[0]):\n",
    "    goals += 1\n",
    "    home_goals.loc[i, goalsHome] = int(goals)"
   ]
  },
  {
   "cell_type": "code",
   "execution_count": null,
   "metadata": {},
   "outputs": [],
   "source": [
    "away_goals.set_index('Time', inplace=True)\n",
    "home_goals.set_index('Time', inplace=True)"
   ]
  },
  {
   "cell_type": "code",
   "execution_count": 18,
   "metadata": {},
   "outputs": [],
   "source": [
    "away_goals = pd.DataFrame(away_goals[goalsAway])\n",
    "home_goals = pd.DataFrame(home_goals[goalsHome])"
   ]
  },
  {
   "cell_type": "code",
   "execution_count": 19,
   "metadata": {},
   "outputs": [
    {
     "data": {
      "text/html": [
       "<div>\n",
       "<style scoped>\n",
       "    .dataframe tbody tr th:only-of-type {\n",
       "        vertical-align: middle;\n",
       "    }\n",
       "\n",
       "    .dataframe tbody tr th {\n",
       "        vertical-align: top;\n",
       "    }\n",
       "\n",
       "    .dataframe thead th {\n",
       "        text-align: right;\n",
       "    }\n",
       "</style>\n",
       "<table border=\"1\" class=\"dataframe\">\n",
       "  <thead>\n",
       "    <tr style=\"text-align: right;\">\n",
       "      <th></th>\n",
       "      <th>LAK Total Goals</th>\n",
       "      <th>COL Total Goals</th>\n",
       "    </tr>\n",
       "    <tr>\n",
       "      <th>Time</th>\n",
       "      <th></th>\n",
       "      <th></th>\n",
       "    </tr>\n",
       "  </thead>\n",
       "  <tbody>\n",
       "    <tr>\n",
       "      <th>00:04:47</th>\n",
       "      <td>1.0</td>\n",
       "      <td>NaN</td>\n",
       "    </tr>\n",
       "  </tbody>\n",
       "</table>\n",
       "</div>"
      ],
      "text/plain": [
       "          LAK Total Goals  COL Total Goals\n",
       "Time                                      \n",
       "00:04:47              1.0              NaN"
      ]
     },
     "execution_count": 19,
     "metadata": {},
     "output_type": "execute_result"
    }
   ],
   "source": [
    "goals = away_goals.join(home_goals)\n",
    "goals"
   ]
  },
  {
   "cell_type": "code",
   "execution_count": 20,
   "metadata": {},
   "outputs": [],
   "source": [
    "goals = pd.concat([allP,away_goals,home_goals],axis=1,sort=True)\n",
    "goals.fillna(\"N\",inplace=True)"
   ]
  },
  {
   "cell_type": "code",
   "execution_count": 21,
   "metadata": {},
   "outputs": [],
   "source": [
    "for i in range(0,goals.shape[0]):\n",
    "    #Handle when one column starts with NaN\n",
    "    if i == 0:\n",
    "        if goals.iloc[0,0] == 'N':\n",
    "            goals.iloc[0,0] = 0\n",
    "            \n",
    "        if goals.iloc[0,1] == 'N':\n",
    "            goals.iloc[0,1] = 0\n",
    "    \n",
    "    #Remove other NaN values\n",
    "    if goals.iloc[i,0] == 'N':\n",
    "        goals.iloc[i,0] = goals.iloc[i-1,0]\n",
    "        \n",
    "    if goals.iloc[i,1] == 'N':\n",
    "        goals.iloc[i,1] = goals.iloc[i-1,1]"
   ]
  },
  {
   "cell_type": "markdown",
   "metadata": {},
   "source": [
    "## Shots:\n",
    "### &emsp; [1] Graph of shots per team vs time-elapsed, w/ shot differential\n",
    "### &emsp; [2] Top 5 shooters for each team by: shots, missed shots, shot attempts, shooting%, +/-"
   ]
  },
  {
   "cell_type": "code",
   "execution_count": 23,
   "metadata": {},
   "outputs": [],
   "source": [
    "away_shots = away_plays[(away_plays['event_type'] == 'SHOT') | (away_plays['event_type'] == 'GOAL')].reset_index()\n",
    "home_shots = home_plays[(home_plays['event_type'] == 'SHOT') | (home_plays['event_type'] == 'GOAL')].reset_index()"
   ]
  },
  {
   "cell_type": "code",
   "execution_count": 24,
   "metadata": {},
   "outputs": [],
   "source": [
    "shots = 0\n",
    "strNameA = Away + \" Shot Total\"\n",
    "for i in range(0,away_shots.shape[0]):\n",
    "    shots += 1\n",
    "    away_shots.loc[i, strNameA] = int(shots)"
   ]
  },
  {
   "cell_type": "code",
   "execution_count": 25,
   "metadata": {},
   "outputs": [],
   "source": [
    "shots = 0\n",
    "strNameH = Home + \" Shot Total\"\n",
    "for i in range(0,home_shots.shape[0]):\n",
    "    shots+=1\n",
    "    home_shots.loc[i, strNameH] = int(shots)"
   ]
  },
  {
   "cell_type": "code",
   "execution_count": 26,
   "metadata": {},
   "outputs": [],
   "source": [
    "away_shots.set_index('Time', inplace=True)\n",
    "home_shots.set_index('Time', inplace=True)\n",
    "\n",
    "away_shots = pd.DataFrame(away_shots[strNameA])\n",
    "home_shots = pd.DataFrame(home_shots[strNameH])"
   ]
  },
  {
   "cell_type": "code",
   "execution_count": 27,
   "metadata": {},
   "outputs": [],
   "source": [
    "shots = allP.join(away_shots)\n",
    "shots = shots.join(home_shots)"
   ]
  },
  {
   "cell_type": "code",
   "execution_count": 28,
   "metadata": {
    "scrolled": false
   },
   "outputs": [],
   "source": [
    "shots = allP.join(away_shots)\n",
    "shots = shots.join(home_shots)\n",
    "\n",
    "shots.fillna(\"N\",inplace=True)"
   ]
  },
  {
   "cell_type": "code",
   "execution_count": 29,
   "metadata": {},
   "outputs": [],
   "source": [
    "for i in range(0,shots.shape[0]):\n",
    "    #Handle when one column starts with NaN\n",
    "    if i == 0:\n",
    "        if shots.iloc[0,0] == 'N':\n",
    "            shots.iloc[0,0] = 0\n",
    "            \n",
    "        if shots.iloc[0,1] == 'N':\n",
    "            shots.iloc[0,1] = 0\n",
    "    \n",
    "    #Remove other NaN values\n",
    "    if shots.iloc[i,0] == 'N':\n",
    "        shots.iloc[i,0] = shots.iloc[i-1,0]\n",
    "        \n",
    "    if shots.iloc[i,1] == 'N':\n",
    "        shots.iloc[i,1] = shots.iloc[i-1,1]\n",
    "\n",
    "shots['Differential'] = abs(shots[strNameA] - shots[strNameH])"
   ]
  },
  {
   "cell_type": "code",
   "execution_count": null,
   "metadata": {},
   "outputs": [],
   "source": []
  },
  {
   "cell_type": "code",
   "execution_count": 30,
   "metadata": {
    "scrolled": false
   },
   "outputs": [
    {
     "data": {
      "image/png": "[encoded data removed]",
      "text/plain": [
       "<Figure size 1152x576 with 2 Axes>"
      ]
     },
     "metadata": {
      "needs_background": "light"
     },
     "output_type": "display_data"
    }
   ],
   "source": [
    "fig = plt.figure(figsize=(16,8))\n",
    "ax0 = plt.subplot(1,1,1)\n",
    "\n",
    "style.use('ggplot')\n",
    "\n",
    "plt.plot(shots.index,shots.iloc[:,0],c='b',linestyle='--',label=shots.columns[0])\n",
    "plt.plot(shots.index,shots.iloc[:,1],c='r',linestyle='--',label=shots.columns[1])\n",
    "plt.plot(shots.index,shots.iloc[:,2],c='y',linestyle='--',label=shots.columns[2])\n",
    "plt.xlabel('Game Time Elapsed (HH:MM:SS)')\n",
    "plt.ylabel('Shots on Goal')\n",
    "plt.legend(loc=2)\n",
    "\n",
    "#Add vertical bars to graph to mark end of periods.\n",
    "plt.axvline(x=1200,c='grey')\n",
    "plt.axvline(x=2400,c='grey')\n",
    "plt.axvline(x=3600,c='grey')\n",
    "\n",
    "#Add goals to right side axis\n",
    "ax1 = ax0.twinx()\n",
    "\n",
    "plt.plot(goals.index,goals.iloc[:,0],c='b',label=goals.columns[0])\n",
    "plt.plot(goals.index,goals.iloc[:,1],c='r',label=goals.columns[1])\n",
    "plt.ylabel('Goals')\n",
    "\n",
    "#Define formatting function for x axis\n",
    "formatter = mpl.ticker.FuncFormatter(lambda ms, x: time.strftime('%H:%M:%S', time.gmtime(ms)))\n",
    "ax1.xaxis.set_major_formatter(formatter)\n",
    "\n",
    "x = [i * 60 for i in range(0,70,5)]\n",
    "ax1.set_xticks(x)\n",
    "\n",
    "plt.legend(loc=4)\n",
    "\n",
    "plt.title(f\"{today} {Away} vs. {Home} - Shots & Goals\")\n",
    "plt.show()"
   ]
  },
  {
   "cell_type": "code",
   "execution_count": null,
   "metadata": {},
   "outputs": [],
   "source": []
  },
  {
   "cell_type": "code",
   "execution_count": null,
   "metadata": {},
   "outputs": [],
   "source": [
    "shots.join(goals)[145:200]"
   ]
  },
  {
   "cell_type": "code",
   "execution_count": null,
   "metadata": {},
   "outputs": [],
   "source": []
  },
  {
   "cell_type": "code",
   "execution_count": null,
   "metadata": {},
   "outputs": [],
   "source": []
  },
  {
   "cell_type": "code",
   "execution_count": null,
   "metadata": {},
   "outputs": [],
   "source": []
  },
  {
   "cell_type": "code",
   "execution_count": null,
   "metadata": {},
   "outputs": [],
   "source": []
  },
  {
   "cell_type": "code",
   "execution_count": null,
   "metadata": {},
   "outputs": [],
   "source": []
  },
  {
   "cell_type": "code",
   "execution_count": null,
   "metadata": {},
   "outputs": [],
   "source": []
  },
  {
   "cell_type": "code",
   "execution_count": null,
   "metadata": {},
   "outputs": [],
   "source": []
  },
  {
   "cell_type": "code",
   "execution_count": null,
   "metadata": {},
   "outputs": [],
   "source": []
  },
  {
   "cell_type": "code",
   "execution_count": null,
   "metadata": {
    "scrolled": true
   },
   "outputs": [],
   "source": [
    "#for game in list_games():  # No args will list all games today\n",
    "#    game_id = game['game_id']\n",
    "#    plays = list_plays(game_id)  # get plays, normalized\n",
    "#    \n",
    "#    with open('{}.csv'.format(game_id), 'w') as f:\n",
    "#        csv.dump(plays, f)"
   ]
  },
  {
   "cell_type": "code",
   "execution_count": null,
   "metadata": {},
   "outputs": [],
   "source": [
    "#gameid = \"2019020418\"\n",
    "#\n",
    "#plays = pd.DataFrame(list_plays(gameid))\n",
    "#shifts = pd.DataFrame(list_shifts(gameid))\n",
    "\n",
    "#plays.head()\n",
    "#shifts.head()"
   ]
  },
  {
   "cell_type": "code",
   "execution_count": null,
   "metadata": {
    "scrolled": true
   },
   "outputs": [],
   "source": [
    "#df = pd.DataFrame(list_plays(gameid))\n",
    "#df.head(30)"
   ]
  },
  {
   "cell_type": "code",
   "execution_count": 2,
   "metadata": {
    "scrolled": false
   },
   "outputs": [
    {
     "data": {
      "application/vnd.jupyter.widget-view+json": {
       "model_id": "522cb8281f634089b628de338dcfb0f1",
       "version_major": 2,
       "version_minor": 0
      },
      "text/plain": [
       "interactive(children=(FloatSlider(value=1.0, description='freq', max=3.0, min=-1.0), Dropdown(description='col…"
      ]
     },
     "metadata": {},
     "output_type": "display_data"
    }
   ],
   "source": [
    "@widgets.interact_manual(\n",
    "    color=['blue', 'red', 'green'], lw=(1., 10.))\n",
    "def plot(freq=1., color='blue', lw=2, grid=True):\n",
    "    t = np.linspace(-1., +1., 1000)\n",
    "    fig, ax = plt.subplots(1, 1, figsize=(8, 6))\n",
    "    ax.plot(t, np.sin(2 * np.pi * freq * t),\n",
    "            lw=lw, color=color)\n",
    "    ax.grid(grid)"
   ]
  }
 ],
 "metadata": {
  "kernelspec": {
   "display_name": "Python 3",
   "language": "python",
   "name": "python3"
  },
  "language_info": {
   "codemirror_mode": {
    "name": "ipython",
    "version": 3
   },
   "file_extension": ".py",
   "mimetype": "text/x-python",
   "name": "python",
   "nbconvert_exporter": "python",
   "pygments_lexer": "ipython3",
   "version": "3.7.3"
  }
 },
 "nbformat": 4,
 "nbformat_minor": 2
}
