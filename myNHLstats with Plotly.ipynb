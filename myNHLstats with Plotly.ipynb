{
 "cells": [
  {
   "cell_type": "markdown",
   "metadata": {},
   "source": [
    "## Import the necessary modules"
   ]
  },
  {
   "cell_type": "code",
   "execution_count": 1,
   "metadata": {},
   "outputs": [
    {
     "data": {
      "application/javascript": [
       "\n",
       "IPython.OutputArea.prototype._should_scroll = function(lines) {\n",
       "    return false;\n",
       "}\n"
      ],
      "text/plain": [
       "<IPython.core.display.Javascript object>"
      ]
     },
     "metadata": {},
     "output_type": "display_data"
    },
    {
     "data": {
      "text/html": [
       "<style>.container { width:95% !important; }</style>"
      ],
      "text/plain": [
       "<IPython.core.display.HTML object>"
      ]
     },
     "metadata": {},
     "output_type": "display_data"
    }
   ],
   "source": [
    "import myNHLstats as mns\n",
    "from myNHLstats import GameStats, GameMap, PlotGameStats\n",
    "from nhlstats import *\n",
    "\n",
    "import pandas as pd\n",
    "import datetime as dt\n",
    "from datetime import *\n",
    "\n",
    "import ipywidgets as widgets\n",
    "from ipywidgets import *\n",
    "from IPython.display import clear_output\n",
    "\n",
    "from IPython.display import display, Javascript\n",
    "\n",
    "disable_js = \"\"\"\n",
    "IPython.OutputArea.prototype._should_scroll = function(lines) {\n",
    "    return false;\n",
    "}\n",
    "\"\"\"\n",
    "display(Javascript(disable_js))\n",
    "\n",
    "from IPython.core.display import display, HTML\n",
    "display(HTML(\"<style>.container { width:95% !important; }</style>\"))"
   ]
  },
  {
   "cell_type": "markdown",
   "metadata": {},
   "source": [
    "## Import module needed to publish reports using/to datapane"
   ]
  },
  {
   "cell_type": "code",
   "execution_count": 2,
   "metadata": {
    "scrolled": false
   },
   "outputs": [],
   "source": [
    "#import datapane as dp\n",
    "#from datetime import date\n",
    "\n",
    "#dp.login(token=\"\")"
   ]
  },
  {
   "cell_type": "markdown",
   "metadata": {},
   "source": [
    "## Create widgets"
   ]
  },
  {
   "cell_type": "code",
   "execution_count": 3,
   "metadata": {},
   "outputs": [],
   "source": [
    "desc = \"\\n\\nAuthor's Notes:\\n\\n\" + \"- Using Plotly's `subplots` & `graph_objects` class's (python), it is currently only possible to attach a legend \" + \\\n",
    "        \"in the first subplot. This makes it impossible to add legends to the maps, momentum, or P5 plots :(. But, all of the plots are \" + \\\n",
    "        \"interactive and moving your cursor over the plot will bring up labels for the data points. I know its possible to make this happen \" + \\\n",
    "        \"but am currently researching how to make it work using Plotly.\\n\\n- The circular, pie-chart-esque plots are called `sunburst` plots. \" + \\\n",
    "        \"I prefer to call them `Puck Plots`. Click on different parts of the plot to focus the plot on that element and it's corresponding data. \" + \\\n",
    "        \"Some of these puck plots are restricted to displaying a max depth of 2 or 3 levels, but those plots have more info to show when you \" + \\\n",
    "        \" focus in on a specific element.\\n\\n- `Net Momentum` is a _very subjective_ measure of which team is controlling the play. \" + \\\n",
    "        \"It is calculated as the sum product of goals, shots, shot attempts, and hits over the past 5 minutes (for any point of time in the game) \" + \\\n",
    "        \"multiplied by arbitrary weights for the respective stats. Current weights for momentum are Goal: 10, Shot: 5, Hit: 3, Shot Attempt: 1. \" + \\\n",
    "        \"Momentum is calculated for each team and then the Away team's momentum is subtracted from the Home team's momentum to get the Net Momentum. \" + \\\n",
    "        \"A positive Net Momentum means the Home team is in theory 'dominating' the play at that point, and a negative Net Momentum implies the same \" + \\\n",
    "        \"for the Away team.\\n\\n- In the future, I plan to refine the weights used to calculate momentum using various regressions and larger \" + \\\n",
    "        \"data sets. The goal of Net Momentum is to have a single measure of the statistical likelihood for a team scoring a goal. My \" + \\\n",
    "        \"hypothesis is that goals scored by lower skilled teams will correspond to a higher Net Momentum on average than for a higher skilled team. \" + \\\n",
    "        \"I also plan to refine the weighting system to account for how long ago each event happened. For example, a shot that occured 4 minutes \" + \\\n",
    "        \"ago should not have the same weight as a shot that happened 1 minute ago, but they currently have the same influence on team momentum.\"\n",
    "\n",
    "#print(desc)"
   ]
  },
  {
   "cell_type": "code",
   "execution_count": 4,
   "metadata": {},
   "outputs": [],
   "source": [
    "style = {'description_width': 'initial'}\n",
    "\n",
    "DatePicker = widgets.DatePicker(\n",
    "    description = 'Pick a Date',\n",
    "    disabled    = False,\n",
    "    value       = date.today(),\n",
    "    style       = style\n",
    ")\n",
    "HomeColor       = widgets.Checkbox(\n",
    "    value       = False,\n",
    "    description = 'Alternate Home Color:',\n",
    "    disabled    = False,\n",
    "    indent      = False\n",
    ")\n",
    "\n",
    "AwayColor       = widgets.Checkbox(\n",
    "    value       = False,\n",
    "    description = 'Alternate Away Color:',\n",
    "    disabled    = False,\n",
    "    indent      = False\n",
    ")\n",
    "\n",
    "chkPublish      = widgets.Checkbox(\n",
    "    value       = False,\n",
    "    description = 'Publish Report to DataPane:',\n",
    "    disabled    = False,\n",
    "    indent      = False\n",
    ")\n",
    "\n",
    "templates = [\"plotly\", \"plotly_white\", \"plotly_dark\", \"ggplot2\", \"seaborn\", \"simple_white\", \"none\"]\n",
    "drpTemplate = widgets.Dropdown(options     = templates, \n",
    "                               value       = 'plotly_white',\n",
    "                               description = 'Plotly Template:',\n",
    "                               disabled    = False, \n",
    "                               style       = style)\n",
    "def lst_unique(x):\n",
    "    return list(dict.fromkeys(x))\n",
    "\n",
    "def SelectGames(GameDay):\n",
    "    # Download games index for selected gameday to pandas DF\n",
    "    try:\n",
    "        games = pd.DataFrame(list_games(GameDay, GameDay))\n",
    "        games = games.drop(columns=['season'])\n",
    "    except:\n",
    "        team_select = widgets.Dropdown(options     = [\"NO GAMES\"],\n",
    "                                       value       = \"NO GAMES\",\n",
    "                                       description = 'Team Name: ',\n",
    "                                       disabled    = False,\n",
    "                                       style       = style\n",
    "                                      )\n",
    "        clear_output(wait=True)\n",
    "        return None, team_select\n",
    "    \n",
    "    if len(games) > 0:\n",
    "        #Create lists for all teams playing, and all game_id's\n",
    "        teams = []\n",
    "        [teams.append(i) for i in games.away_team]\n",
    "        [teams.append(i) for i in games.home_team]\n",
    "\n",
    "        teams.sort()\n",
    "        teams = lst_unique(teams)\n",
    "    \n",
    "    team_select = widgets.Dropdown(options     = teams,\n",
    "                                   value       = teams[0],\n",
    "                                   description = 'Team Name: ',\n",
    "                                   disabled    = False,\n",
    "                                   style       = style)\n",
    "        \n",
    "    return games, team_select\n",
    "\n",
    "goButton = widgets.Button(value        = False,\n",
    "                          description  = 'Create Plots',\n",
    "                          disabled     = False,\n",
    "                          button_style = 'success', # 'success', 'info', 'warning', 'danger' or ''\n",
    "                          tooltip      = 'Description',\n",
    "                          icon         = 'check', # (FontAwesome names without the `fa-` prefix)\n",
    "                          style        = style)\n",
    "def click(b):\n",
    "    \n",
    "    gameid, Home, Away = games.loc[(games.home_team == team_select.value) | \\\n",
    "                                   (games.away_team == team_select.value), \n",
    "                                   ['game_id','home_team','away_team']].max()\n",
    "    clear_output(wait=False)\n",
    "    display(goButton)\n",
    "    \n",
    "    # Create game plot\n",
    "    gp = PlotGameStats(gameid    = gameid, \n",
    "                       HomeColor = HomeColor.value, \n",
    "                       AwayColor = AwayColor.value)\n",
    "    \n",
    "    gp.go(template=drpTemplate.value)\n",
    "    fig = gp.fig\n",
    "\n",
    "    Folder = r\"C:\\Users\\grega\\Google Drive\\Python\\NHLstats\\Live NHL Stats\\HTML Files\\\\\"\n",
    "    fig.write_html(f\"{Folder}{Away}_at_{Home}_{gp.gameDay}.html\")\n",
    "    \n",
    "    fig.show()\n",
    "    \n",
    "    if chkPublish.value == True:\n",
    "        # Create report\n",
    "        r = dp.Report(f\"{Away} @ {Home} | {gp.gameDay}\",\n",
    "                      f'_Built using data from the NHL Stats API on {date.today()}_'  + desc,\n",
    "                      fig,\n",
    "                      gp.plays,\n",
    "                )\n",
    "\n",
    "        # Publish\n",
    "        r.publish(name=f\"{Away} @ {Home} | {gp.gameDay}\", \n",
    "                  open=True, \n",
    "                  description=f'Built using data from the NHL Stats API on {date.today()}')\n",
    "\n",
    "goButton.on_click(click)    \n",
    "games, team_select = SelectGames(DatePicker.value)\n"
   ]
  },
  {
   "cell_type": "markdown",
   "metadata": {},
   "source": [
    "## Display game plot/map generator"
   ]
  },
  {
   "cell_type": "code",
   "execution_count": 5,
   "metadata": {
    "scrolled": true
   },
   "outputs": [
    {
     "data": {
      "application/vnd.jupyter.widget-view+json": {
       "model_id": "a2445a6f3d1849e3a17d0858e16bbb35",
       "version_major": 2,
       "version_minor": 0
      },
      "text/plain": [
       "interactive(children=(DatePicker(value=datetime.date(2021, 2, 28), description='Pick a Date', style=Descriptio…"
      ]
     },
     "metadata": {},
     "output_type": "display_data"
    }
   ],
   "source": [
    "@interact\n",
    "def change(DP=DatePicker, \n",
    "           ts=team_select,\n",
    "           HC=HomeColor, \n",
    "           AC=AwayColor,\n",
    "           PB=chkPublish,\n",
    "           DT=drpTemplate):\n",
    "    global games\n",
    "    games, temp = SelectGames(DatePicker.value)\n",
    "    \n",
    "    try:\n",
    "        teams = []\n",
    "        [teams.append(i) for i in games.away_team]\n",
    "        [teams.append(i) for i in games.home_team]\n",
    "    \n",
    "        teams.sort()\n",
    "        teams = lst_unique(teams)\n",
    "        team_select.options = teams\n",
    "    \n",
    "    except:\n",
    "        team_select.options =['NO GAMES']\n",
    "        \n",
    "    clear_output(wait=True)\n",
    "    display(games)\n",
    "    display(goButton)"
   ]
  }
 ],
 "metadata": {
  "kernelspec": {
   "display_name": "Python 3",
   "language": "python",
   "name": "python3"
  },
  "language_info": {
   "codemirror_mode": {
    "name": "ipython",
    "version": 3
   },
   "file_extension": ".py",
   "mimetype": "text/x-python",
   "name": "python",
   "nbconvert_exporter": "python",
   "pygments_lexer": "ipython3",
   "version": "3.8.5"
  }
 },
 "nbformat": 4,
 "nbformat_minor": 4
}
